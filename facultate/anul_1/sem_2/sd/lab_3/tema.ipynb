{
 "cells": [
  {
   "cell_type": "markdown",
   "metadata": {},
   "source": [
    "# Comentarii\n",
    "\n",
    "\n",
    "Mulțumesc frumos pentru projectul tău! Mă bucur că ați încercat asta; avem un cazul particular cu sistemul $2 \\times 2$, totuși împlementarea nu este trivial.\n",
    "\n",
    "Din punctul meu de vedere soluția este correcta și completa; am văzut cum este construita soluție progresiv. Sper că cu exercițiul asta lucrurile din curs au devenit mai lămurit. \n",
    "\n",
    "La cursul au fost prezentat diferite metode. Metoda \"ecuației caracteristice\" ne aduce  prin ansatz $y(x) = \\mathrm{e}^{cx} \\implies y'(x) = c y(x)$ de la ecuație diferențial la ecuație algebrice, folosind faptul că scriem $y(x)$ nu că o singura funcție, dar că un vectorul de funcție, $y(x) = (y_1(x), \\dots, y_n(x))$. (Și la cursul a fost aratat că $y(x)$ este într-adevar un element in un spațiu vectorial).\n",
    "\n",
    "Din punctul de vedere practic dorim să scriem un program care ne dau soluție sistemului homogen, de exemplu pentru 3 funcție $y_1(x), y_2(x), y_3(x)$. (Sisteme nehomogene sunt \"ușoare\" când avem soluție homogena prin metoda \"variaței constante\").\n",
    "\n",
    "\\begin{align*}\n",
    "\\left( \\begin{matrix} y_1'(x) \\\\ y_2'(x) \\\\ y_3'(x)  \\end{matrix} \\right) \n",
    "= \\left( \\begin{matrix} \n",
    "a_{11} & a_{12} & a_{13} \\\\\n",
    "a_{21} & a_{22} & a_{23} \\\\\n",
    "a_{31} & a_{32} & a_{33} \\\\\n",
    "\\end{matrix} \\right)  \n",
    "\\left( \\begin{matrix} y_1(x) \\\\ y_2(x) \\\\ y_3(x)   \\end{matrix} \\right) && \\{a_{ij}\\}_{1 \\leq ij \\leq 3} \\in \\mathbb{C}\n",
    "\\end{align*}\n",
    "\n",
    "Hai să suponem că este diagonalizabil, dupa asta generalizarea la \"formă lui Jordan\" nu e grea.\n",
    "\n",
    "Adică input ar fi o matrice, si da ca output un vector cu soluția pentru fiecare funcție. ceva din genul\n",
    "\n",
    "~~~{.python}\n",
    "def myDESolver(coefficient_matrix):\n",
    "    # check it is diagonalizable\n",
    "    if ( coefficient_matrix.is_diagonalizable() == False ): return -1\n",
    "    \n",
    "    # the dimension of sistem, ie. number of functions\n",
    "    n = coefficient_matrix.nrows()\n",
    "    \n",
    "    # the list with the functions to be returned\n",
    "    solution_vector = vector([function('y'+str(k))(x) for k in [1..n]])\n",
    "    ....\n",
    "    return solution_vector\n",
    "~~~\n",
    "\n",
    "Ecuație este $\\mathbf y' = A \\mathbf y$, si ii-scriem matrice cu coeffiecentele că \n",
    "\n",
    "\\begin{align*}\n",
    "T^{-1} A T = \\mathrm {diag}(\\lambda_1, \\dots, \\lambda_n) \n",
    "\\end{align*}\n",
    "\n",
    "pentru o $n \\times n$ matrice $T$. La diagonal avem valorii propri, $\\lambda_1, \\dots, \\lambda_n$. Matrice $T$ găsim-o cu `jordan_form(...)`.\n",
    "\n",
    "~~~\n",
    "T = coefficient_matrix.jordan_form(transformation=True)[1]\n",
    "~~~\n",
    "\n",
    "Definim vectorul\n",
    "\n",
    "\\begin{align*}\n",
    "\\mathbf z = T^{-1} \\mathbf y,\n",
    "\\end{align*}\n",
    "\n",
    "care ne aduce la ecuație\n",
    "\n",
    "\\begin{align*}\n",
    "\\mathbf z' = \\mathrm{diag}(\\lambda_1, \\dots, \\lambda_n) \\mathbf z\n",
    "\\end{align*}\n",
    "\n",
    "Soluția pentru $\\mathbf z$ este ușor. Dacă avem că condiție inițiale $\\mathbf z(0) = \\mathbf z_0$ atunci\n",
    "\n",
    "\\begin{align*}\n",
    "\\mathbf z = \\mathrm{diag} (\\mathrm e^{\\lambda_1}, \\dots, \\mathrm e^{\\lambda_n}) \\mathbf z_0\n",
    "\\end{align*}\n",
    "\n",
    "Adică\n",
    "\n",
    "\\begin{align*}\n",
    "\\mathbf y &= T \\mathbf z \\\\\n",
    "&= T (\\mathrm{diag} (\\mathrm e^{\\lambda_1}, \\dots, \\mathrm e^{\\lambda_n}) \\mathbf z_0)  \\\\\n",
    "&= T \\mathrm{diag} (\\mathrm e^{\\lambda_1}, \\dots, \\mathrm e^{\\lambda_n})  \\left( T^{-1} \\mathbf y_0 \\right) \\\\\n",
    "&= (T \\mathrm{diag} (\\mathrm e^{\\lambda_1}, \\dots, \\mathrm e^{\\lambda_n})  T^{-1} ) \\mathbf y_0\n",
    "\\end{align*}\n",
    "\n",
    "Codul arata așa"
   ]
  },
  {
   "cell_type": "code",
   "execution_count": 1,
   "metadata": {},
   "outputs": [],
   "source": [
    "def myDESolver(coefficient_matrix, initial_conditions, x = var):\n",
    "    \n",
    "    # check it is diagonalizable\n",
    "    if ( coefficient_matrix.is_diagonalizable() == False ): return -1\n",
    "    \n",
    "    # the dimension of sistem, ie. number of functions\n",
    "    n = coefficient_matrix.nrows()\n",
    "    \n",
    "    # the list with the functions to be returned\n",
    "    ## the variable is called here \"x\"  but it maches the \"var\" as passed by the user\n",
    "    y_sol = vector([function('y'+str(k))(x) for k in [1..n]])\n",
    "    \n",
    "    # put a vector with initial conditions\n",
    "    ## initial_conditions = [y1(0), y2(0), ..., yn(0)]\n",
    "    y_0 = vector(initial_conditions)\n",
    "    \n",
    "    # compute the Jordan transformation matrix\n",
    "    T = coefficient_matrix.jordan_form(transformation=True)[1]\n",
    "    \n",
    "    # compute diagonal matrix with eigenvalues, D = (lambda_1, ....., lambda_n)\n",
    "    D = T.inverse() * coefficient_matrix * T\n",
    "    \n",
    "    # compute the exponential of the diagonal matrix\n",
    "    DExp = e^(D*x) \n",
    "    \n",
    "    # compute the solution\n",
    "    y_sol = T * DExp * T.inverse() * y_0\n",
    "    \n",
    "    # return the solution\n",
    "    return y_sol"
   ]
  },
  {
   "cell_type": "markdown",
   "metadata": {},
   "source": [
    "Hai să incercam un sistem, de exemplu\n",
    "\n",
    "\\begin{align*}\n",
    "\\left( \\begin{matrix} y_1'(t) \\\\ y_2'(t) \\\\ y_3'(t)  \\end{matrix} \\right) \n",
    "= \\left( \\begin{matrix} \n",
    "1 & 2 & 0 \\\\\n",
    "2 & 1 & 0 \\\\\n",
    "0 & 0 & 1 \\\\\n",
    "\\end{matrix} \\right)  \n",
    "\\left( \\begin{matrix} y_1(t) \\\\ y_2(t) \\\\ y_3(t)   \\end{matrix} \\right)\n",
    "&&\n",
    "\\left( \\begin{matrix} y_1(0) \\\\ y_2(0) \\\\ y_3(0)   \\end{matrix} \\right) = \\left( \\begin{matrix} a \\\\ b \\\\ c \\end{matrix} \\right)\n",
    "\\end{align*}\n"
   ]
  },
  {
   "cell_type": "code",
   "execution_count": 2,
   "metadata": {},
   "outputs": [
    {
     "data": {
      "text/html": [
       "<html><script type=\"math/tex; mode=display\">\\newcommand{\\Bold}[1]{\\mathbf{#1}}\\frac{1}{2} \\, a {\\left(e^{\\left(3 \\, t\\right)} + e^{\\left(-t\\right)}\\right)} + \\frac{1}{2} \\, b {\\left(e^{\\left(3 \\, t\\right)} - e^{\\left(-t\\right)}\\right)}</script></html>"
      ],
      "text/latex": [
       "\\begin{math}\n",
       "\\newcommand{\\Bold}[1]{\\mathbf{#1}}\\frac{1}{2} \\, a {\\left(e^{\\left(3 \\, t\\right)} + e^{\\left(-t\\right)}\\right)} + \\frac{1}{2} \\, b {\\left(e^{\\left(3 \\, t\\right)} - e^{\\left(-t\\right)}\\right)}\n",
       "\\end{math}"
      ],
      "text/plain": [
       "1/2*a*(e^(3*t) + e^(-t)) + 1/2*b*(e^(3*t) - e^(-t))"
      ]
     },
     "metadata": {},
     "output_type": "display_data"
    },
    {
     "data": {
      "text/html": [
       "<html><script type=\"math/tex; mode=display\">\\newcommand{\\Bold}[1]{\\mathbf{#1}}\\frac{1}{2} \\, b {\\left(e^{\\left(3 \\, t\\right)} + e^{\\left(-t\\right)}\\right)} + \\frac{1}{2} \\, a {\\left(e^{\\left(3 \\, t\\right)} - e^{\\left(-t\\right)}\\right)}</script></html>"
      ],
      "text/latex": [
       "\\begin{math}\n",
       "\\newcommand{\\Bold}[1]{\\mathbf{#1}}\\frac{1}{2} \\, b {\\left(e^{\\left(3 \\, t\\right)} + e^{\\left(-t\\right)}\\right)} + \\frac{1}{2} \\, a {\\left(e^{\\left(3 \\, t\\right)} - e^{\\left(-t\\right)}\\right)}\n",
       "\\end{math}"
      ],
      "text/plain": [
       "1/2*b*(e^(3*t) + e^(-t)) + 1/2*a*(e^(3*t) - e^(-t))"
      ]
     },
     "metadata": {},
     "output_type": "display_data"
    },
    {
     "data": {
      "text/html": [
       "<html><script type=\"math/tex; mode=display\">\\newcommand{\\Bold}[1]{\\mathbf{#1}}c e^{t}</script></html>"
      ],
      "text/latex": [
       "\\begin{math}\n",
       "\\newcommand{\\Bold}[1]{\\mathbf{#1}}c e^{t}\n",
       "\\end{math}"
      ],
      "text/plain": [
       "c*e^t"
      ]
     },
     "metadata": {},
     "output_type": "display_data"
    }
   ],
   "source": [
    "example = matrix(QQ, [[1,2,0], [2,1,0], [0,0,1] ])\n",
    "var('t, a,b,c')\n",
    "\n",
    "sol = myDESolver(example, [a,b,c], t)\n",
    "y_1(t) = sol[0]; y_2(t) = sol[1]; y_3(t) = sol[2]; \n",
    "\n",
    "show(y_1(t))\n",
    "show(y_2(t))\n",
    "show(y_3(t))"
   ]
  },
  {
   "cell_type": "markdown",
   "metadata": {},
   "source": [
    "## Soluție numerice\n",
    "\n",
    "Discuția asta este si important pentru soluție numerice nu numai de ecuație liniare, dar cu ecuație neliniare. Te am trimit un attachment cu câteva paginii din *Numerical Recipes*. Sper că să fie interesant :)\n",
    "\n",
    "-------------"
   ]
  },
  {
   "cell_type": "markdown",
   "metadata": {},
   "source": [
    "Scopul acestei aplicații este încercarea de a rezolva un sistem de 2 ecuații diferențiale de ordinul 1 fără a utiliza instrucțiunea \"desolve_system\". Am încercat să fac o soluție astfel încat dacă se schimbă sistemul să fie cât mai ușor de modificat programul ulterior (spre exemplu am încercat să utilizez .coefficient() în loc să scriu eu manual coeficientul la matrice). Nu mi-a ieșit chiar 100%, și bineînțeles că programul va merge doar pentru ecuații de 2 necunoscute, cu coeficienți constanți pentru care ecuația caracteristica are 2 rădăcini reale distince, dar sunt destul de mulțumit de rezultat. \n",
    "Pentru aplicație, am ales ca exercițiu de suport exercitiul 1, subpunctul a) din laboratorul 3."
   ]
  },
  {
   "cell_type": "markdown",
   "metadata": {},
   "source": [
    "\\begin{cases} \\large x'(t)= x(t) + 4y(t) \\\\ \\large y'(t)= x(t) + y(t)\\end{cases}"
   ]
  },
  {
   "cell_type": "markdown",
   "metadata": {},
   "source": [
    "Mai întâi, vom declara variabilele, funcțiile și ecuațiile, ca să le avem memorate undeva"
   ]
  },
  {
   "cell_type": "code",
   "execution_count": 1,
   "metadata": {},
   "outputs": [
    {
     "data": {
      "text/html": [
       "<html><script type=\"math/tex; mode=display\">\\newcommand{\\Bold}[1]{\\mathbf{#1}}\\frac{\\partial}{\\partial t}x\\left(t\\right) = x\\left(t\\right) + 4 \\, y\\left(t\\right)</script></html>"
      ],
      "text/latex": [
       "\\begin{math}\n",
       "\\newcommand{\\Bold}[1]{\\mathbf{#1}}\\frac{\\partial}{\\partial t}x\\left(t\\right) = x\\left(t\\right) + 4 \\, y\\left(t\\right)\n",
       "\\end{math}"
      ],
      "text/plain": [
       "diff(x(t), t) == x(t) + 4*y(t)"
      ]
     },
     "metadata": {},
     "output_type": "display_data"
    },
    {
     "data": {
      "text/html": [
       "<html><script type=\"math/tex; mode=display\">\\newcommand{\\Bold}[1]{\\mathbf{#1}}\\frac{\\partial}{\\partial t}y\\left(t\\right) = x\\left(t\\right) + y\\left(t\\right)</script></html>"
      ],
      "text/latex": [
       "\\begin{math}\n",
       "\\newcommand{\\Bold}[1]{\\mathbf{#1}}\\frac{\\partial}{\\partial t}y\\left(t\\right) = x\\left(t\\right) + y\\left(t\\right)\n",
       "\\end{math}"
      ],
      "text/plain": [
       "diff(y(t), t) == x(t) + y(t)"
      ]
     },
     "metadata": {},
     "output_type": "display_data"
    }
   ],
   "source": [
    "var(\"t\")\n",
    "x=function(\"x\")(t)\n",
    "y=function(\"y\")(t)\n",
    "equation_1=diff(x,t)==x+4*y\n",
    "equation_2=diff(y,t)==x+y\n",
    "system_1=[equation_1,equation_2]\n",
    "show(system_1[0])\n",
    "show(system_1[1])"
   ]
  },
  {
   "cell_type": "markdown",
   "metadata": {},
   "source": [
    "Observăm că sistemul nostru este de gradul 1 cu coeficienții funcțiilor x și y constante. Deci, putem încerca rezolvarea sistemului prin metoda ecuației caracteristice. "
   ]
  },
  {
   "cell_type": "markdown",
   "metadata": {},
   "source": [
    "Pentru asta, vom crea mai întâi matricea sistemului:"
   ]
  },
  {
   "cell_type": "code",
   "execution_count": 2,
   "metadata": {},
   "outputs": [
    {
     "data": {
      "text/html": [
       "<html><script type=\"math/tex; mode=display\">\\newcommand{\\Bold}[1]{\\mathbf{#1}}\\left(\\begin{array}{rr}\n",
       "1 & 4 \\\\\n",
       "1 & 1\n",
       "\\end{array}\\right)</script></html>"
      ],
      "text/latex": [
       "\\begin{math}\n",
       "\\newcommand{\\Bold}[1]{\\mathbf{#1}}\\left(\\begin{array}{rr}\n",
       "1 & 4 \\\\\n",
       "1 & 1\n",
       "\\end{array}\\right)\n",
       "\\end{math}"
      ],
      "text/plain": [
       "[1 4]\n",
       "[1 1]"
      ]
     },
     "metadata": {},
     "output_type": "display_data"
    }
   ],
   "source": [
    "s=system_1 #am dat o denumire mai scurta pentru a nu fi foarte incarcata urmatoarea linie (tot e incarcata)\n",
    "system_matrix=matrix([[s[0].rhs().coefficient(x),s[0].rhs().coefficient(y)],[s[1].rhs().coefficient(x),s[1].rhs().coefficient(y)]])\n",
    "show(system_matrix)"
   ]
  },
  {
   "cell_type": "markdown",
   "metadata": {},
   "source": [
    "Acum vom determina polinomul propriu atașat acestei matrici."
   ]
  },
  {
   "cell_type": "code",
   "execution_count": 3,
   "metadata": {},
   "outputs": [
    {
     "data": {
      "text/html": [
       "<html><script type=\"math/tex; mode=display\">\\newcommand{\\Bold}[1]{\\mathbf{#1}}{\\left(p - 1\\right)}^{2} - 4</script></html>"
      ],
      "text/latex": [
       "\\begin{math}\n",
       "\\newcommand{\\Bold}[1]{\\mathbf{#1}}{\\left(p - 1\\right)}^{2} - 4\n",
       "\\end{math}"
      ],
      "text/plain": [
       "(p - 1)^2 - 4"
      ]
     },
     "metadata": {},
     "output_type": "display_data"
    }
   ],
   "source": [
    "var(\"p\")\n",
    "auxiliar_matrix=matrix([[p,0],[0,p]])#Aceasta este matricea lambda* I2\n",
    "auxiliar_matrix=auxiliar_matrix-system_matrix #Iar aici formam lambda*I2-A\n",
    "car_polynom=auxiliar_matrix.determinant()\n",
    "show(car_polynom)"
   ]
  },
  {
   "cell_type": "markdown",
   "metadata": {},
   "source": [
    "De aici, avem polinomul căutat și, o dată ce-l egalăm cu 0, vom avea ecuația caracteristică."
   ]
  },
  {
   "cell_type": "code",
   "execution_count": 6,
   "metadata": {},
   "outputs": [
    {
     "data": {
      "text/html": [
       "<html><script type=\"math/tex; mode=display\">\\newcommand{\\Bold}[1]{\\mathbf{#1}}{\\left(p - 1\\right)}^{2} - 4 = 0</script></html>"
      ],
      "text/latex": [
       "\\begin{math}\n",
       "\\newcommand{\\Bold}[1]{\\mathbf{#1}}{\\left(p - 1\\right)}^{2} - 4 = 0\n",
       "\\end{math}"
      ],
      "text/plain": [
       "(p - 1)^2 - 4 == 0"
      ]
     },
     "metadata": {},
     "output_type": "display_data"
    }
   ],
   "source": [
    "car_eq=car_polynom==0\n",
    "show(car_eq)"
   ]
  },
  {
   "cell_type": "markdown",
   "metadata": {},
   "source": [
    "Acum, vom rezolva ecuația utilizând un solve."
   ]
  },
  {
   "cell_type": "code",
   "execution_count": 7,
   "metadata": {},
   "outputs": [
    {
     "data": {
      "text/html": [
       "<html><script type=\"math/tex; mode=display\">\\newcommand{\\Bold}[1]{\\mathbf{#1}}\\left[p = 3, p = \\left(-1\\right)\\right]</script></html>"
      ],
      "text/latex": [
       "\\begin{math}\n",
       "\\newcommand{\\Bold}[1]{\\mathbf{#1}}\\left[p = 3, p = \\left(-1\\right)\\right]\n",
       "\\end{math}"
      ],
      "text/plain": [
       "[p == 3, p == -1]"
      ]
     },
     "metadata": {},
     "output_type": "display_data"
    }
   ],
   "source": [
    "sol_aux=solve(car_eq,p)\n",
    "show(sol_aux)"
   ]
  },
  {
   "cell_type": "markdown",
   "metadata": {},
   "source": [
    "Și vom extrage coeficienții într-o listă de soluții."
   ]
  },
  {
   "cell_type": "code",
   "execution_count": 8,
   "metadata": {},
   "outputs": [
    {
     "data": {
      "text/html": [
       "<html><script type=\"math/tex; mode=display\">\\newcommand{\\Bold}[1]{\\mathbf{#1}}\\left[3, -1\\right]</script></html>"
      ],
      "text/latex": [
       "\\begin{math}\n",
       "\\newcommand{\\Bold}[1]{\\mathbf{#1}}\\left[3, -1\\right]\n",
       "\\end{math}"
      ],
      "text/plain": [
       "[3, -1]"
      ]
     },
     "metadata": {},
     "output_type": "display_data"
    }
   ],
   "source": [
    "sol_p=[sol_aux[0].rhs(),sol_aux[1].rhs()]\n",
    "show(sol_p)"
   ]
  },
  {
   "cell_type": "markdown",
   "metadata": {},
   "source": [
    "Acum, vom crea forma generala a unei soluții Y"
   ]
  },
  {
   "cell_type": "code",
   "execution_count": 9,
   "metadata": {},
   "outputs": [
    {
     "data": {
      "text/html": [
       "<html><script type=\"math/tex; mode=display\">\\newcommand{\\Bold}[1]{\\mathbf{#1}}\\left(\\begin{array}{r}\n",
       "a e^{\\left(t w\\right)} \\\\\n",
       "b e^{\\left(t w\\right)}\n",
       "\\end{array}\\right)</script></html>"
      ],
      "text/latex": [
       "\\begin{math}\n",
       "\\newcommand{\\Bold}[1]{\\mathbf{#1}}\\left(\\begin{array}{r}\n",
       "a e^{\\left(t w\\right)} \\\\\n",
       "b e^{\\left(t w\\right)}\n",
       "\\end{array}\\right)\n",
       "\\end{math}"
      ],
      "text/plain": [
       "[a*e^(t*w)]\n",
       "[b*e^(t*w)]"
      ]
     },
     "metadata": {},
     "output_type": "display_data"
    }
   ],
   "source": [
    "var(\"a,b,w\")\n",
    "Y_general=matrix([[a*e^(w*t)],[b*e^(w*t)]])\n",
    "show(Y_general)"
   ]
  },
  {
   "cell_type": "markdown",
   "metadata": {},
   "source": [
    "Acum, vom crea cele doua soluții particulare Y1 și Y2"
   ]
  },
  {
   "cell_type": "code",
   "execution_count": 10,
   "metadata": {},
   "outputs": [
    {
     "data": {
      "text/html": [
       "<html><script type=\"math/tex; mode=display\">\\newcommand{\\Bold}[1]{\\mathbf{#1}}\\verb|Y1=| \\left(\\begin{array}{r}\n",
       "a e^{\\left(3 \\, t\\right)} \\\\\n",
       "b e^{\\left(3 \\, t\\right)}\n",
       "\\end{array}\\right) \\verb|;Y2=| \\left(\\begin{array}{r}\n",
       "a e^{\\left(-t\\right)} \\\\\n",
       "b e^{\\left(-t\\right)}\n",
       "\\end{array}\\right)</script></html>"
      ],
      "text/latex": [
       "\\begin{math}\n",
       "\\newcommand{\\Bold}[1]{\\mathbf{#1}}\\verb|Y1=| \\left(\\begin{array}{r}\n",
       "a e^{\\left(3 \\, t\\right)} \\\\\n",
       "b e^{\\left(3 \\, t\\right)}\n",
       "\\end{array}\\right) \\verb|;Y2=| \\left(\\begin{array}{r}\n",
       "a e^{\\left(-t\\right)} \\\\\n",
       "b e^{\\left(-t\\right)}\n",
       "\\end{array}\\right)\n",
       "\\end{math}"
      ],
      "text/plain": [
       "'Y1=' [a*e^(3*t)]\n",
       "[b*e^(3*t)] ';Y2=' [a*e^(-t)]\n",
       "[b*e^(-t)]"
      ]
     },
     "metadata": {},
     "output_type": "display_data"
    }
   ],
   "source": [
    "Y1=Y_general.subs(w==sol_p[0])\n",
    "Y2=Y_general.subs(w==sol_p[1])\n",
    "show(\"Y1=\",Y1,\";Y2=\",Y2)"
   ]
  },
  {
   "cell_type": "markdown",
   "metadata": {},
   "source": [
    "Tot ce ne mai rămâne acum de făcut este să aflăm cele doua constante a,b pentru fiecare matrice în parte."
   ]
  },
  {
   "cell_type": "markdown",
   "metadata": {},
   "source": [
    "Pentru asta, ne vom folosi de relația:"
   ]
  },
  {
   "cell_type": "code",
   "execution_count": 11,
   "metadata": {},
   "outputs": [
    {
     "data": {
      "text/html": [
       "<html><script type=\"math/tex; mode=display\">\\newcommand{\\Bold}[1]{\\mathbf{#1}}\\left(\\begin{array}{rr}\n",
       "p - 1 & -4 \\\\\n",
       "-1 & p - 1\n",
       "\\end{array}\\right) \\verb|*| \\left(\\begin{array}{r}\n",
       "a \\\\\n",
       "b\n",
       "\\end{array}\\right) \\verb|=| \\left(\\begin{array}{r}\n",
       "0 \\\\\n",
       "0\n",
       "\\end{array}\\right)</script></html>"
      ],
      "text/latex": [
       "\\begin{math}\n",
       "\\newcommand{\\Bold}[1]{\\mathbf{#1}}\\left(\\begin{array}{rr}\n",
       "p - 1 & -4 \\\\\n",
       "-1 & p - 1\n",
       "\\end{array}\\right) \\verb|*| \\left(\\begin{array}{r}\n",
       "a \\\\\n",
       "b\n",
       "\\end{array}\\right) \\verb|=| \\left(\\begin{array}{r}\n",
       "0 \\\\\n",
       "0\n",
       "\\end{array}\\right)\n",
       "\\end{math}"
      ],
      "text/plain": [
       "[p - 1    -4]\n",
       "[   -1 p - 1] '*' [a]\n",
       "[b] '=' [0]\n",
       "[0]"
      ]
     },
     "metadata": {},
     "output_type": "display_data"
    }
   ],
   "source": [
    "const_mat=matrix([[a],[b]])#definim matricea cu coeficinetii a b\n",
    "zero_mat=matrix([[0],[0]])#si matricea O2,1\n",
    "show(auxiliar_matrix,\"*\",const_mat,\"=\",zero_mat)"
   ]
  },
  {
   "cell_type": "markdown",
   "metadata": {},
   "source": [
    "Cum am făcut și până acum, voi rezolva ecuațiile în paralel pentru ambele cazuri. Substituim p cu valorile obținute anterior."
   ]
  },
  {
   "cell_type": "code",
   "execution_count": 12,
   "metadata": {},
   "outputs": [
    {
     "data": {
      "text/html": [
       "<html><script type=\"math/tex; mode=display\">\\newcommand{\\Bold}[1]{\\mathbf{#1}}\\left(\\begin{array}{r}\n",
       "2 \\, a - 4 \\, b \\\\\n",
       "-a + 2 \\, b\n",
       "\\end{array}\\right) \\verb|=| \\left(\\begin{array}{r}\n",
       "0 \\\\\n",
       "0\n",
       "\\end{array}\\right)</script></html>"
      ],
      "text/latex": [
       "\\begin{math}\n",
       "\\newcommand{\\Bold}[1]{\\mathbf{#1}}\\left(\\begin{array}{r}\n",
       "2 \\, a - 4 \\, b \\\\\n",
       "-a + 2 \\, b\n",
       "\\end{array}\\right) \\verb|=| \\left(\\begin{array}{r}\n",
       "0 \\\\\n",
       "0\n",
       "\\end{array}\\right)\n",
       "\\end{math}"
      ],
      "text/plain": [
       "[2*a - 4*b]\n",
       "[ -a + 2*b] '=' [0]\n",
       "[0]"
      ]
     },
     "metadata": {},
     "output_type": "display_data"
    },
    {
     "data": {
      "text/html": [
       "<html><script type=\"math/tex; mode=display\">\\newcommand{\\Bold}[1]{\\mathbf{#1}}\\left(\\begin{array}{r}\n",
       "-2 \\, a - 4 \\, b \\\\\n",
       "-a - 2 \\, b\n",
       "\\end{array}\\right) \\verb|=| \\left(\\begin{array}{r}\n",
       "0 \\\\\n",
       "0\n",
       "\\end{array}\\right)</script></html>"
      ],
      "text/latex": [
       "\\begin{math}\n",
       "\\newcommand{\\Bold}[1]{\\mathbf{#1}}\\left(\\begin{array}{r}\n",
       "-2 \\, a - 4 \\, b \\\\\n",
       "-a - 2 \\, b\n",
       "\\end{array}\\right) \\verb|=| \\left(\\begin{array}{r}\n",
       "0 \\\\\n",
       "0\n",
       "\\end{array}\\right)\n",
       "\\end{math}"
      ],
      "text/plain": [
       "[-2*a - 4*b]\n",
       "[  -a - 2*b] '=' [0]\n",
       "[0]"
      ]
     },
     "metadata": {},
     "output_type": "display_data"
    }
   ],
   "source": [
    "aux_mat1=(auxiliar_matrix*const_mat).subs(p==sol_p[0])\n",
    "aux_mat2=(auxiliar_matrix*const_mat).subs(p==sol_p[1])\n",
    "show(aux_mat1,\"=\",zero_mat)\n",
    "show(aux_mat2,\"=\",zero_mat)"
   ]
  },
  {
   "cell_type": "markdown",
   "metadata": {},
   "source": [
    "Explicităm ecuațiile matriceale sub forma de sistem de ecuații (poate era mai okay daca notam diferit necunoscutele a,b in cele doua ecuații, dar erau mai ușor de scris scripturile așa)"
   ]
  },
  {
   "cell_type": "code",
   "execution_count": 13,
   "metadata": {},
   "outputs": [
    {
     "data": {
      "text/html": [
       "<html><script type=\"math/tex; mode=display\">\\newcommand{\\Bold}[1]{\\mathbf{#1}}\\left[2 \\, a - 4 \\, b = 0, -a + 2 \\, b = 0\\right]</script></html>"
      ],
      "text/latex": [
       "\\begin{math}\n",
       "\\newcommand{\\Bold}[1]{\\mathbf{#1}}\\left[2 \\, a - 4 \\, b = 0, -a + 2 \\, b = 0\\right]\n",
       "\\end{math}"
      ],
      "text/plain": [
       "[2*a - 4*b == 0, -a + 2*b == 0]"
      ]
     },
     "metadata": {},
     "output_type": "display_data"
    },
    {
     "data": {
      "text/html": [
       "<html><script type=\"math/tex; mode=display\">\\newcommand{\\Bold}[1]{\\mathbf{#1}}\\left[-2 \\, a - 4 \\, b = 0, -a - 2 \\, b = 0\\right]</script></html>"
      ],
      "text/latex": [
       "\\begin{math}\n",
       "\\newcommand{\\Bold}[1]{\\mathbf{#1}}\\left[-2 \\, a - 4 \\, b = 0, -a - 2 \\, b = 0\\right]\n",
       "\\end{math}"
      ],
      "text/plain": [
       "[-2*a - 4*b == 0, -a - 2*b == 0]"
      ]
     },
     "metadata": {},
     "output_type": "display_data"
    }
   ],
   "source": [
    "eq11=aux_mat1[0][0]==0\n",
    "eq12=aux_mat1[1][0]==0\n",
    "eq21=aux_mat2[0][0]==0\n",
    "eq22=aux_mat2[1][0]==0\n",
    "sysm1=[eq11,eq12]\n",
    "sysm2=[eq21,eq22]\n",
    "show(sysm1)\n",
    "show(sysm2)"
   ]
  },
  {
   "cell_type": "markdown",
   "metadata": {},
   "source": [
    "Acum putem rezolva sistemul. ( Știm că sistemul este compatibil nedeterminat datorită modului în care l-am ales pe p anterior (determinantul sistemului este 0, iar matricea \"B\" (cea cu termenii liberi) este matricea nulă). În continuare voi rezolva sistemul pentru a.)"
   ]
  },
  {
   "cell_type": "code",
   "execution_count": 14,
   "metadata": {},
   "outputs": [
    {
     "data": {
      "text/html": [
       "<html><script type=\"math/tex; mode=display\">\\newcommand{\\Bold}[1]{\\mathbf{#1}}\\left[\\left[b = \\frac{1}{2} \\, a\\right]\\right] \\left[\\left[b = -\\frac{1}{2} \\, a\\right]\\right]</script></html>"
      ],
      "text/latex": [
       "\\begin{math}\n",
       "\\newcommand{\\Bold}[1]{\\mathbf{#1}}\\left[\\left[b = \\frac{1}{2} \\, a\\right]\\right] \\left[\\left[b = -\\frac{1}{2} \\, a\\right]\\right]\n",
       "\\end{math}"
      ],
      "text/plain": [
       "[[b == 1/2*a]] [[b == -1/2*a]]"
      ]
     },
     "metadata": {},
     "output_type": "display_data"
    }
   ],
   "source": [
    "solm1=solve(sysm1,b)\n",
    "solm2=solve(sysm2,b)\n",
    "show(solm1,solm2)"
   ]
  },
  {
   "cell_type": "markdown",
   "metadata": {},
   "source": [
    "Acum înlocuim în matricile noastre Y1 și Y2"
   ]
  },
  {
   "cell_type": "code",
   "execution_count": 15,
   "metadata": {},
   "outputs": [
    {
     "data": {
      "text/html": [
       "<html><script type=\"math/tex; mode=display\">\\newcommand{\\Bold}[1]{\\mathbf{#1}}\\left(\\begin{array}{r}\n",
       "a e^{\\left(3 \\, t\\right)} \\\\\n",
       "\\frac{1}{2} \\, a e^{\\left(3 \\, t\\right)}\n",
       "\\end{array}\\right)</script></html>"
      ],
      "text/latex": [
       "\\begin{math}\n",
       "\\newcommand{\\Bold}[1]{\\mathbf{#1}}\\left(\\begin{array}{r}\n",
       "a e^{\\left(3 \\, t\\right)} \\\\\n",
       "\\frac{1}{2} \\, a e^{\\left(3 \\, t\\right)}\n",
       "\\end{array}\\right)\n",
       "\\end{math}"
      ],
      "text/plain": [
       "[    a*e^(3*t)]\n",
       "[1/2*a*e^(3*t)]"
      ]
     },
     "metadata": {},
     "output_type": "display_data"
    },
    {
     "data": {
      "text/html": [
       "<html><script type=\"math/tex; mode=display\">\\newcommand{\\Bold}[1]{\\mathbf{#1}}\\left(\\begin{array}{r}\n",
       "a e^{\\left(-t\\right)} \\\\\n",
       "-\\frac{1}{2} \\, a e^{\\left(-t\\right)}\n",
       "\\end{array}\\right)</script></html>"
      ],
      "text/latex": [
       "\\begin{math}\n",
       "\\newcommand{\\Bold}[1]{\\mathbf{#1}}\\left(\\begin{array}{r}\n",
       "a e^{\\left(-t\\right)} \\\\\n",
       "-\\frac{1}{2} \\, a e^{\\left(-t\\right)}\n",
       "\\end{array}\\right)\n",
       "\\end{math}"
      ],
      "text/plain": [
       "[     a*e^(-t)]\n",
       "[-1/2*a*e^(-t)]"
      ]
     },
     "metadata": {},
     "output_type": "display_data"
    }
   ],
   "source": [
    "Y1_f=Y1.subs(solm1)\n",
    "Y2_f=Y2.subs(solm2)\n",
    "show(Y1_f)\n",
    "show(Y2_f)"
   ]
  },
  {
   "cell_type": "markdown",
   "metadata": {},
   "source": [
    "Și vom substitui a cu 2 în fiecare ecuație (am ales 2 pentru a scăpa de $\\frac{1}{2}$ )."
   ]
  },
  {
   "cell_type": "code",
   "execution_count": 16,
   "metadata": {},
   "outputs": [
    {
     "data": {
      "text/html": [
       "<html><script type=\"math/tex; mode=display\">\\newcommand{\\Bold}[1]{\\mathbf{#1}}\\left(\\begin{array}{r}\n",
       "2 \\, e^{\\left(3 \\, t\\right)} \\\\\n",
       "e^{\\left(3 \\, t\\right)}\n",
       "\\end{array}\\right)</script></html>"
      ],
      "text/latex": [
       "\\begin{math}\n",
       "\\newcommand{\\Bold}[1]{\\mathbf{#1}}\\left(\\begin{array}{r}\n",
       "2 \\, e^{\\left(3 \\, t\\right)} \\\\\n",
       "e^{\\left(3 \\, t\\right)}\n",
       "\\end{array}\\right)\n",
       "\\end{math}"
      ],
      "text/plain": [
       "[2*e^(3*t)]\n",
       "[  e^(3*t)]"
      ]
     },
     "metadata": {},
     "output_type": "display_data"
    },
    {
     "data": {
      "text/html": [
       "<html><script type=\"math/tex; mode=display\">\\newcommand{\\Bold}[1]{\\mathbf{#1}}\\left(\\begin{array}{r}\n",
       "2 \\, e^{\\left(-t\\right)} \\\\\n",
       "-e^{\\left(-t\\right)}\n",
       "\\end{array}\\right)</script></html>"
      ],
      "text/latex": [
       "\\begin{math}\n",
       "\\newcommand{\\Bold}[1]{\\mathbf{#1}}\\left(\\begin{array}{r}\n",
       "2 \\, e^{\\left(-t\\right)} \\\\\n",
       "-e^{\\left(-t\\right)}\n",
       "\\end{array}\\right)\n",
       "\\end{math}"
      ],
      "text/plain": [
       "[2*e^(-t)]\n",
       "[ -e^(-t)]"
      ]
     },
     "metadata": {},
     "output_type": "display_data"
    }
   ],
   "source": [
    "Y1_ff=Y1_f.subs(a==2)\n",
    "Y2_ff=Y2_f.subs(a==2)\n",
    "show(Y1_ff)\n",
    "show(Y2_ff)"
   ]
  },
  {
   "cell_type": "markdown",
   "metadata": {},
   "source": [
    "Iar acum, soluția noastră finală va fi o combinație liniară a celor două matrici găsite:"
   ]
  },
  {
   "cell_type": "code",
   "execution_count": 17,
   "metadata": {},
   "outputs": [
    {
     "data": {
      "text/html": [
       "<html><script type=\"math/tex; mode=display\">\\newcommand{\\Bold}[1]{\\mathbf{#1}}\\left(\\begin{array}{r}\n",
       "2 \\, v_{1} e^{\\left(3 \\, t\\right)} + 2 \\, v_{2} e^{\\left(-t\\right)} \\\\\n",
       "v_{1} e^{\\left(3 \\, t\\right)} - v_{2} e^{\\left(-t\\right)}\n",
       "\\end{array}\\right)</script></html>"
      ],
      "text/latex": [
       "\\begin{math}\n",
       "\\newcommand{\\Bold}[1]{\\mathbf{#1}}\\left(\\begin{array}{r}\n",
       "2 \\, v_{1} e^{\\left(3 \\, t\\right)} + 2 \\, v_{2} e^{\\left(-t\\right)} \\\\\n",
       "v_{1} e^{\\left(3 \\, t\\right)} - v_{2} e^{\\left(-t\\right)}\n",
       "\\end{array}\\right)\n",
       "\\end{math}"
      ],
      "text/plain": [
       "[2*v1*e^(3*t) + 2*v2*e^(-t)]\n",
       "[    v1*e^(3*t) - v2*e^(-t)]"
      ]
     },
     "metadata": {},
     "output_type": "display_data"
    }
   ],
   "source": [
    "var(\"v1,v2\")\n",
    "Y=v1*Y1_ff+v2*Y2_ff\n",
    "show(Y)"
   ]
  },
  {
   "cell_type": "markdown",
   "metadata": {},
   "source": [
    "Altfel spus:"
   ]
  },
  {
   "cell_type": "code",
   "execution_count": 18,
   "metadata": {},
   "outputs": [
    {
     "data": {
      "text/html": [
       "<html><script type=\"math/tex; mode=display\">\\newcommand{\\Bold}[1]{\\mathbf{#1}}x\\left(t\\right) = 2 \\, v_{1} e^{\\left(3 \\, t\\right)} + 2 \\, v_{2} e^{\\left(-t\\right)}</script></html>"
      ],
      "text/latex": [
       "\\begin{math}\n",
       "\\newcommand{\\Bold}[1]{\\mathbf{#1}}x\\left(t\\right) = 2 \\, v_{1} e^{\\left(3 \\, t\\right)} + 2 \\, v_{2} e^{\\left(-t\\right)}\n",
       "\\end{math}"
      ],
      "text/plain": [
       "x(t) == 2*v1*e^(3*t) + 2*v2*e^(-t)"
      ]
     },
     "metadata": {},
     "output_type": "display_data"
    },
    {
     "data": {
      "text/html": [
       "<html><script type=\"math/tex; mode=display\">\\newcommand{\\Bold}[1]{\\mathbf{#1}}y\\left(t\\right) = v_{1} e^{\\left(3 \\, t\\right)} - v_{2} e^{\\left(-t\\right)}</script></html>"
      ],
      "text/latex": [
       "\\begin{math}\n",
       "\\newcommand{\\Bold}[1]{\\mathbf{#1}}y\\left(t\\right) = v_{1} e^{\\left(3 \\, t\\right)} - v_{2} e^{\\left(-t\\right)}\n",
       "\\end{math}"
      ],
      "text/plain": [
       "y(t) == v1*e^(3*t) - v2*e^(-t)"
      ]
     },
     "metadata": {},
     "output_type": "display_data"
    }
   ],
   "source": [
    "f_eq1=x==Y[0][0]\n",
    "f_eq2=y==Y[1][0]\n",
    "show(f_eq1)\n",
    "show(f_eq2)"
   ]
  },
  {
   "cell_type": "markdown",
   "metadata": {},
   "source": [
    "Vreau să ajung totuși la formă asemănătoare cu a lui desolve_system, așa că vom substitui t cu 0 pentru a afla v1 și v2 în funcție de punctele x(0) și y(0)"
   ]
  },
  {
   "cell_type": "code",
   "execution_count": 19,
   "metadata": {},
   "outputs": [
    {
     "data": {
      "text/html": [
       "<html><script type=\"math/tex; mode=display\">\\newcommand{\\Bold}[1]{\\mathbf{#1}}x\\left(0\\right) = 2 \\, v_{1} + 2 \\, v_{2}</script></html>"
      ],
      "text/latex": [
       "\\begin{math}\n",
       "\\newcommand{\\Bold}[1]{\\mathbf{#1}}x\\left(0\\right) = 2 \\, v_{1} + 2 \\, v_{2}\n",
       "\\end{math}"
      ],
      "text/plain": [
       "x(0) == 2*v1 + 2*v2"
      ]
     },
     "metadata": {},
     "output_type": "display_data"
    },
    {
     "data": {
      "text/html": [
       "<html><script type=\"math/tex; mode=display\">\\newcommand{\\Bold}[1]{\\mathbf{#1}}y\\left(0\\right) = v_{1} - v_{2}</script></html>"
      ],
      "text/latex": [
       "\\begin{math}\n",
       "\\newcommand{\\Bold}[1]{\\mathbf{#1}}y\\left(0\\right) = v_{1} - v_{2}\n",
       "\\end{math}"
      ],
      "text/plain": [
       "y(0) == v1 - v2"
      ]
     },
     "metadata": {},
     "output_type": "display_data"
    }
   ],
   "source": [
    "f0_eq1=f_eq1.subs(t==0)\n",
    "f0_eq2=f_eq2.subs(t==0)\n",
    "show(f0_eq1)\n",
    "show(f0_eq2)"
   ]
  },
  {
   "cell_type": "markdown",
   "metadata": {},
   "source": [
    "Acum vom forma un sistem și vom rezolva pentru v1 și v2"
   ]
  },
  {
   "cell_type": "code",
   "execution_count": 20,
   "metadata": {},
   "outputs": [
    {
     "data": {
      "text/html": [
       "<html><script type=\"math/tex; mode=display\">\\newcommand{\\Bold}[1]{\\mathbf{#1}}\\left[\\left[v_{1} = \\frac{1}{4} \\, x\\left(0\\right) + \\frac{1}{2} \\, y\\left(0\\right), v_{2} = \\frac{1}{4} \\, x\\left(0\\right) - \\frac{1}{2} \\, y\\left(0\\right)\\right]\\right]</script></html>"
      ],
      "text/latex": [
       "\\begin{math}\n",
       "\\newcommand{\\Bold}[1]{\\mathbf{#1}}\\left[\\left[v_{1} = \\frac{1}{4} \\, x\\left(0\\right) + \\frac{1}{2} \\, y\\left(0\\right), v_{2} = \\frac{1}{4} \\, x\\left(0\\right) - \\frac{1}{2} \\, y\\left(0\\right)\\right]\\right]\n",
       "\\end{math}"
      ],
      "text/plain": [
       "[[v1 == 1/4*x(0) + 1/2*y(0), v2 == 1/4*x(0) - 1/2*y(0)]]"
      ]
     },
     "metadata": {},
     "output_type": "display_data"
    }
   ],
   "source": [
    "solution_f0=solve([f0_eq1,f0_eq2],[v1,v2])\n",
    "show(solution_f0)"
   ]
  },
  {
   "cell_type": "markdown",
   "metadata": {},
   "source": [
    "Iar acum vom substitui v1 și v2 în soluțiile inițiale."
   ]
  },
  {
   "cell_type": "code",
   "execution_count": 21,
   "metadata": {},
   "outputs": [
    {
     "data": {
      "text/html": [
       "<html><script type=\"math/tex; mode=display\">\\newcommand{\\Bold}[1]{\\mathbf{#1}}x\\left(t\\right) = \\frac{1}{2} \\, {\\left(x\\left(0\\right) + 2 \\, y\\left(0\\right)\\right)} e^{\\left(3 \\, t\\right)} + \\frac{1}{2} \\, {\\left(x\\left(0\\right) - 2 \\, y\\left(0\\right)\\right)} e^{\\left(-t\\right)}</script></html>"
      ],
      "text/latex": [
       "\\begin{math}\n",
       "\\newcommand{\\Bold}[1]{\\mathbf{#1}}x\\left(t\\right) = \\frac{1}{2} \\, {\\left(x\\left(0\\right) + 2 \\, y\\left(0\\right)\\right)} e^{\\left(3 \\, t\\right)} + \\frac{1}{2} \\, {\\left(x\\left(0\\right) - 2 \\, y\\left(0\\right)\\right)} e^{\\left(-t\\right)}\n",
       "\\end{math}"
      ],
      "text/plain": [
       "x(t) == 1/2*(x(0) + 2*y(0))*e^(3*t) + 1/2*(x(0) - 2*y(0))*e^(-t)"
      ]
     },
     "metadata": {},
     "output_type": "display_data"
    },
    {
     "data": {
      "text/html": [
       "<html><script type=\"math/tex; mode=display\">\\newcommand{\\Bold}[1]{\\mathbf{#1}}y\\left(t\\right) = \\frac{1}{4} \\, {\\left(x\\left(0\\right) + 2 \\, y\\left(0\\right)\\right)} e^{\\left(3 \\, t\\right)} - \\frac{1}{4} \\, {\\left(x\\left(0\\right) - 2 \\, y\\left(0\\right)\\right)} e^{\\left(-t\\right)}</script></html>"
      ],
      "text/latex": [
       "\\begin{math}\n",
       "\\newcommand{\\Bold}[1]{\\mathbf{#1}}y\\left(t\\right) = \\frac{1}{4} \\, {\\left(x\\left(0\\right) + 2 \\, y\\left(0\\right)\\right)} e^{\\left(3 \\, t\\right)} - \\frac{1}{4} \\, {\\left(x\\left(0\\right) - 2 \\, y\\left(0\\right)\\right)} e^{\\left(-t\\right)}\n",
       "\\end{math}"
      ],
      "text/plain": [
       "y(t) == 1/4*(x(0) + 2*y(0))*e^(3*t) - 1/4*(x(0) - 2*y(0))*e^(-t)"
      ]
     },
     "metadata": {},
     "output_type": "display_data"
    }
   ],
   "source": [
    "f_eq1_final=f_eq1.subs(solution_f0)#nu pot sa cred ca asta a functionat, dar sunt fericit ca merge\n",
    "f_eq2_final=f_eq2.subs(solution_f0)\n",
    "show(f_eq1_final)\n",
    "show(f_eq2_final)"
   ]
  },
  {
   "cell_type": "markdown",
   "metadata": {},
   "source": [
    "Iar acum, pentru a ne verifica rezultatul, vom utiliza un desolve_system:"
   ]
  },
  {
   "cell_type": "code",
   "execution_count": 22,
   "metadata": {},
   "outputs": [
    {
     "data": {
      "text/html": [
       "<html><script type=\"math/tex; mode=display\">\\newcommand{\\Bold}[1]{\\mathbf{#1}}x\\left(t\\right) = \\frac{1}{2} \\, {\\left(x\\left(0\\right) + 2 \\, y\\left(0\\right)\\right)} e^{\\left(3 \\, t\\right)} + \\frac{1}{2} \\, {\\left(x\\left(0\\right) - 2 \\, y\\left(0\\right)\\right)} e^{\\left(-t\\right)}</script></html>"
      ],
      "text/latex": [
       "\\begin{math}\n",
       "\\newcommand{\\Bold}[1]{\\mathbf{#1}}x\\left(t\\right) = \\frac{1}{2} \\, {\\left(x\\left(0\\right) + 2 \\, y\\left(0\\right)\\right)} e^{\\left(3 \\, t\\right)} + \\frac{1}{2} \\, {\\left(x\\left(0\\right) - 2 \\, y\\left(0\\right)\\right)} e^{\\left(-t\\right)}\n",
       "\\end{math}"
      ],
      "text/plain": [
       "x(t) == 1/2*(x(0) + 2*y(0))*e^(3*t) + 1/2*(x(0) - 2*y(0))*e^(-t)"
      ]
     },
     "metadata": {},
     "output_type": "display_data"
    },
    {
     "data": {
      "text/html": [
       "<html><script type=\"math/tex; mode=display\">\\newcommand{\\Bold}[1]{\\mathbf{#1}}y\\left(t\\right) = \\frac{1}{4} \\, {\\left(x\\left(0\\right) + 2 \\, y\\left(0\\right)\\right)} e^{\\left(3 \\, t\\right)} - \\frac{1}{4} \\, {\\left(x\\left(0\\right) - 2 \\, y\\left(0\\right)\\right)} e^{\\left(-t\\right)}</script></html>"
      ],
      "text/latex": [
       "\\begin{math}\n",
       "\\newcommand{\\Bold}[1]{\\mathbf{#1}}y\\left(t\\right) = \\frac{1}{4} \\, {\\left(x\\left(0\\right) + 2 \\, y\\left(0\\right)\\right)} e^{\\left(3 \\, t\\right)} - \\frac{1}{4} \\, {\\left(x\\left(0\\right) - 2 \\, y\\left(0\\right)\\right)} e^{\\left(-t\\right)}\n",
       "\\end{math}"
      ],
      "text/plain": [
       "y(t) == 1/4*(x(0) + 2*y(0))*e^(3*t) - 1/4*(x(0) - 2*y(0))*e^(-t)"
      ]
     },
     "metadata": {},
     "output_type": "display_data"
    }
   ],
   "source": [
    "solution_desolve=desolve_system([equation_1,equation_2],[x,y])\n",
    "show(solution_desolve[0])\n",
    "show(solution_desolve[1])"
   ]
  },
  {
   "cell_type": "markdown",
   "metadata": {},
   "source": [
    "Soluție verificată."
   ]
  },
  {
   "attachments": {
    "image.png": {
     "image/png": "[encoded data removed]"
    }
   },
   "cell_type": "markdown",
   "metadata": {},
   "source": [
    "Îmi cer scuze că nu am folosit mai mult Latex. Vă rog să acceptați în schimb acest desen făcut de mine în paint:\n",
    "![image.png](attachment:image.png)"
   ]
  }
 ],
 "metadata": {
  "kernelspec": {
   "display_name": "SageMath 9.2",
   "language": "sage",
   "name": "sagemath"
  },
  "language_info": {
   "codemirror_mode": {
    "name": "ipython",
    "version": 3
   },
   "file_extension": ".py",
   "mimetype": "text/x-python",
   "name": "python",
   "nbconvert_exporter": "python",
   "pygments_lexer": "ipython3",
   "version": "3.7.7"
  }
 },
 "nbformat": 4,
 "nbformat_minor": 4
}
