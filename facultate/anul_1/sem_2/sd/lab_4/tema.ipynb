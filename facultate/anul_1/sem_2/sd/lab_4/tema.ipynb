{
 "cells": [
  {
   "cell_type": "markdown",
   "metadata": {},
   "source": [
    "Se consideră modelul aruncării pe verticală ce descrie dependența vitezei față de distanța de la suprafața pământului"
   ]
  },
  {
   "cell_type": "markdown",
   "metadata": {},
   "source": [
    "\\begin{cases} \\large v(x)v'(x) = -\\frac{gR^2}{(x+R)^2} \\\\ \\large v(0)=v_0\\end{cases}"
   ]
  },
  {
   "cell_type": "markdown",
   "metadata": {},
   "source": [
    "unde x - distanța de la suprafața pământului, R - raza pământului, g - accelerația gravitațională."
   ]
  },
  {
   "cell_type": "markdown",
   "metadata": {},
   "source": [
    "--------------------------"
   ]
  },
  {
   "cell_type": "markdown",
   "metadata": {},
   "source": [
    "(a) Să se determine soluția problemei Cauchy;"
   ]
  },
  {
   "cell_type": "markdown",
   "metadata": {},
   "source": [
    "-----------"
   ]
  },
  {
   "cell_type": "markdown",
   "metadata": {},
   "source": [
    "Bineînțeles, începem cu declararea tuturor variabilelor și funcțiilor (funcției) ce le vom folosi."
   ]
  },
  {
   "cell_type": "code",
   "execution_count": 1,
   "metadata": {},
   "outputs": [],
   "source": [
    "var(\"x,g,R,x,v_0\")\n",
    "v=function(\"v\")(x)"
   ]
  },
  {
   "cell_type": "markdown",
   "metadata": {},
   "source": [
    "Acum putem defini ecuația din problemă și putem rezolva problema Cauchy cu un desolve."
   ]
  },
  {
   "cell_type": "code",
   "execution_count": 2,
   "metadata": {},
   "outputs": [
    {
     "data": {
      "text/html": [
       "<html><script type=\"math/tex; mode=display\">\\newcommand{\\Bold}[1]{\\mathbf{#1}}v\\left(x\\right) \\frac{\\partial}{\\partial x}v\\left(x\\right) = -\\frac{R^{2} g}{{\\left(R + x\\right)}^{2}}</script></html>"
      ],
      "text/latex": [
       "\\begin{math}\n",
       "\\newcommand{\\Bold}[1]{\\mathbf{#1}}v\\left(x\\right) \\frac{\\partial}{\\partial x}v\\left(x\\right) = -\\frac{R^{2} g}{{\\left(R + x\\right)}^{2}}\n",
       "\\end{math}"
      ],
      "text/plain": [
       "v(x)*diff(v(x), x) == -R^2*g/(R + x)^2"
      ]
     },
     "metadata": {},
     "output_type": "display_data"
    },
    {
     "data": {
      "text/html": [
       "<html><script type=\"math/tex; mode=display\">\\newcommand{\\Bold}[1]{\\mathbf{#1}}-\\frac{v\\left(x\\right)^{2}}{2 \\, R^{2} g} = -\\frac{R v_{0}^{2} - {\\left(2 \\, R g - v_{0}^{2}\\right)} x}{2 \\, {\\left(R^{3} g + R^{2} g x\\right)}}</script></html>"
      ],
      "text/latex": [
       "\\begin{math}\n",
       "\\newcommand{\\Bold}[1]{\\mathbf{#1}}-\\frac{v\\left(x\\right)^{2}}{2 \\, R^{2} g} = -\\frac{R v_{0}^{2} - {\\left(2 \\, R g - v_{0}^{2}\\right)} x}{2 \\, {\\left(R^{3} g + R^{2} g x\\right)}}\n",
       "\\end{math}"
      ],
      "text/plain": [
       "-1/2*v(x)^2/(R^2*g) == -1/2*(R*v_0^2 - (2*R*g - v_0^2)*x)/(R^3*g + R^2*g*x)"
      ]
     },
     "metadata": {},
     "output_type": "display_data"
    }
   ],
   "source": [
    "deq=v*diff(v,x,1)==-(g*R^2)/(x+R)^2\n",
    "show(deq)\n",
    "dsol=desolve(deq,[v,x],ics=[0,v_0])\n",
    "show(dsol)"
   ]
  },
  {
   "cell_type": "markdown",
   "metadata": {},
   "source": [
    "Auci. Am obținut o formă implicită. Nu este totuși o problemă, deoarece observăm că termenul v(x) este ușor de izolat. Doar vom \"rezolva\" sistemul pentru v(x)."
   ]
  },
  {
   "cell_type": "code",
   "execution_count": 3,
   "metadata": {},
   "outputs": [
    {
     "data": {
      "text/html": [
       "<html><script type=\"math/tex; mode=display\">\\newcommand{\\Bold}[1]{\\mathbf{#1}}\\left[v\\left(x\\right) = -\\sqrt{\\frac{R v_{0}^{2}}{R + x} - \\frac{2 \\, R g x}{R + x} + \\frac{v_{0}^{2} x}{R + x}}, v\\left(x\\right) = \\sqrt{\\frac{R v_{0}^{2}}{R + x} - \\frac{2 \\, R g x}{R + x} + \\frac{v_{0}^{2} x}{R + x}}\\right]</script></html>"
      ],
      "text/latex": [
       "\\begin{math}\n",
       "\\newcommand{\\Bold}[1]{\\mathbf{#1}}\\left[v\\left(x\\right) = -\\sqrt{\\frac{R v_{0}^{2}}{R + x} - \\frac{2 \\, R g x}{R + x} + \\frac{v_{0}^{2} x}{R + x}}, v\\left(x\\right) = \\sqrt{\\frac{R v_{0}^{2}}{R + x} - \\frac{2 \\, R g x}{R + x} + \\frac{v_{0}^{2} x}{R + x}}\\right]\n",
       "\\end{math}"
      ],
      "text/plain": [
       "[v(x) == -sqrt(R*v_0^2/(R + x) - 2*R*g*x/(R + x) + v_0^2*x/(R + x)), v(x) == sqrt(R*v_0^2/(R + x) - 2*R*g*x/(R + x) + v_0^2*x/(R + x))]"
      ]
     },
     "metadata": {},
     "output_type": "display_data"
    }
   ],
   "source": [
    "dsol_explicit=solve(dsol,v(x))\n",
    "show(dsol_explicit)"
   ]
  },
  {
   "cell_type": "markdown",
   "metadata": {},
   "source": [
    "Observăm că avem 2 soluții diferite, una negativă (prima), ce corespunde vitezei de coborâre (deoarece se apropie de centrul pământului, originea), și una pozitivă (a doua), ce corespunde vitezei de urcare (deoarece se îndepărtează de centru)."
   ]
  },
  {
   "cell_type": "code",
   "execution_count": 4,
   "metadata": {},
   "outputs": [
    {
     "data": {
      "text/html": [
       "<html><script type=\"math/tex; mode=display\">\\newcommand{\\Bold}[1]{\\mathbf{#1}}v\\left(x\\right) = -\\sqrt{\\frac{R v_{0}^{2}}{R + x} - \\frac{2 \\, R g x}{R + x} + \\frac{v_{0}^{2} x}{R + x}}</script></html>"
      ],
      "text/latex": [
       "\\begin{math}\n",
       "\\newcommand{\\Bold}[1]{\\mathbf{#1}}v\\left(x\\right) = -\\sqrt{\\frac{R v_{0}^{2}}{R + x} - \\frac{2 \\, R g x}{R + x} + \\frac{v_{0}^{2} x}{R + x}}\n",
       "\\end{math}"
      ],
      "text/plain": [
       "v(x) == -sqrt(R*v_0^2/(R + x) - 2*R*g*x/(R + x) + v_0^2*x/(R + x))"
      ]
     },
     "metadata": {},
     "output_type": "display_data"
    },
    {
     "data": {
      "text/html": [
       "<html><script type=\"math/tex; mode=display\">\\newcommand{\\Bold}[1]{\\mathbf{#1}}v\\left(x\\right) = \\sqrt{\\frac{R v_{0}^{2}}{R + x} - \\frac{2 \\, R g x}{R + x} + \\frac{v_{0}^{2} x}{R + x}}</script></html>"
      ],
      "text/latex": [
       "\\begin{math}\n",
       "\\newcommand{\\Bold}[1]{\\mathbf{#1}}v\\left(x\\right) = \\sqrt{\\frac{R v_{0}^{2}}{R + x} - \\frac{2 \\, R g x}{R + x} + \\frac{v_{0}^{2} x}{R + x}}\n",
       "\\end{math}"
      ],
      "text/plain": [
       "v(x) == sqrt(R*v_0^2/(R + x) - 2*R*g*x/(R + x) + v_0^2*x/(R + x))"
      ]
     },
     "metadata": {},
     "output_type": "display_data"
    }
   ],
   "source": [
    "show(dsol_explicit[0])\n",
    "show(dsol_explicit[1])"
   ]
  },
  {
   "cell_type": "markdown",
   "metadata": {},
   "source": [
    "--------------"
   ]
  },
  {
   "cell_type": "markdown",
   "metadata": {},
   "source": [
    "(b) Pentru viteza inițială $v_0 = 50 \\frac{m}{s}$ determinați ce vitezăare corpul la înălțimea de $ 75 m $ (se va lua $ R= 6371 km $ , $ g=9.81\\frac{m}{s^2}$);"
   ]
  },
  {
   "cell_type": "markdown",
   "metadata": {},
   "source": [
    "------------"
   ]
  },
  {
   "cell_type": "markdown",
   "metadata": {},
   "source": [
    "Deși $R=6371km$, toate celelate unități de măsură utilizate pentru distanță sunt în m, deci voi lua totuși $R=6371000m$ (Sper că nu este greșit, așa m-am învățat din liceu)."
   ]
  },
  {
   "cell_type": "markdown",
   "metadata": {},
   "source": [
    "Pentru a fi mai simplu, voi defini funcțiile de viteză de coborâre, respectiv de urcare, ce depind de $x$, dar și de $v_0$, $R$ și $g$"
   ]
  },
  {
   "cell_type": "code",
   "execution_count": 5,
   "metadata": {},
   "outputs": [
    {
     "data": {
      "text/html": [
       "<html><script type=\"math/tex; mode=display\">\\newcommand{\\Bold}[1]{\\mathbf{#1}}\\verb|v_coborare| \\left( x, v_{0}, R, g \\right) \\ {\\mapsto} \\ -\\sqrt{\\frac{R v_{0}^{2}}{R + x} - \\frac{2 \\, R g x}{R + x} + \\frac{v_{0}^{2} x}{R + x}}</script></html>"
      ],
      "text/latex": [
       "\\begin{math}\n",
       "\\newcommand{\\Bold}[1]{\\mathbf{#1}}\\verb|v_coborare| \\left( x, v_{0}, R, g \\right) \\ {\\mapsto} \\ -\\sqrt{\\frac{R v_{0}^{2}}{R + x} - \\frac{2 \\, R g x}{R + x} + \\frac{v_{0}^{2} x}{R + x}}\n",
       "\\end{math}"
      ],
      "text/plain": [
       "'v_coborare' (x, v_0, R, g) |--> -sqrt(R*v_0^2/(R + x) - 2*R*g*x/(R + x) + v_0^2*x/(R + x))"
      ]
     },
     "metadata": {},
     "output_type": "display_data"
    },
    {
     "data": {
      "text/html": [
       "<html><script type=\"math/tex; mode=display\">\\newcommand{\\Bold}[1]{\\mathbf{#1}}\\verb|v_urcare| \\left( x, v_{0}, R, g \\right) \\ {\\mapsto} \\ \\sqrt{\\frac{R v_{0}^{2}}{R + x} - \\frac{2 \\, R g x}{R + x} + \\frac{v_{0}^{2} x}{R + x}}</script></html>"
      ],
      "text/latex": [
       "\\begin{math}\n",
       "\\newcommand{\\Bold}[1]{\\mathbf{#1}}\\verb|v_urcare| \\left( x, v_{0}, R, g \\right) \\ {\\mapsto} \\ \\sqrt{\\frac{R v_{0}^{2}}{R + x} - \\frac{2 \\, R g x}{R + x} + \\frac{v_{0}^{2} x}{R + x}}\n",
       "\\end{math}"
      ],
      "text/plain": [
       "'v_urcare' (x, v_0, R, g) |--> sqrt(R*v_0^2/(R + x) - 2*R*g*x/(R + x) + v_0^2*x/(R + x))"
      ]
     },
     "metadata": {},
     "output_type": "display_data"
    }
   ],
   "source": [
    "v_coborare(x,v_0,R,g)=dsol_explicit[0].rhs()\n",
    "v_urcare(x,v_0,R,g)=dsol_explicit[1].rhs()\n",
    "show(\"v_coborare\",v_coborare)\n",
    "show(\"v_urcare\",v_urcare)"
   ]
  },
  {
   "cell_type": "markdown",
   "metadata": {},
   "source": [
    "Acum, doar dorim valorile acestor funcții pentru valorile date în ipoteză. (La o înălțime $x$ știm că corpul fie este în coborâre, fie în urcare, de asta avem doua valori pentru viteză (în timp ce viteza de urcare este garantat valida, nu sunt sigur dacă este okay că am luat și viteza de coborâre, din moment ce este posibil ca obiectul să evadeze din câmpul gravitațional... sper că nu spun prostii pe aici ))"
   ]
  },
  {
   "cell_type": "code",
   "execution_count": 6,
   "metadata": {},
   "outputs": [
    {
     "data": {
      "text/html": [
       "<html><script type=\"math/tex; mode=display\">\\newcommand{\\Bold}[1]{\\mathbf{#1}}\\verb|Viteza|\\phantom{\\verb!x!}\\verb|la|\\phantom{\\verb!x!}\\verb|coborare|\\phantom{\\verb!x!}\\verb|este|\\phantom{\\verb!x!}\\verb|vc=| -32.0705054907136 \\frac{m}{s}</script></html>"
      ],
      "text/latex": [
       "\\begin{math}\n",
       "\\newcommand{\\Bold}[1]{\\mathbf{#1}}\\verb|Viteza|\\phantom{\\verb!x!}\\verb|la|\\phantom{\\verb!x!}\\verb|coborare|\\phantom{\\verb!x!}\\verb|este|\\phantom{\\verb!x!}\\verb|vc=| -32.0705054907136 \\frac{m}{s}\n",
       "\\end{math}"
      ],
      "text/plain": [
       "'Viteza la coborare este vc=' -32.0705054907136 m/s"
      ]
     },
     "metadata": {},
     "output_type": "display_data"
    },
    {
     "data": {
      "text/html": [
       "<html><script type=\"math/tex; mode=display\">\\newcommand{\\Bold}[1]{\\mathbf{#1}}\\verb|Viteza|\\phantom{\\verb!x!}\\verb|la|\\phantom{\\verb!x!}\\verb|urcare|\\phantom{\\verb!x!}\\verb|este|\\phantom{\\verb!x!}\\verb|vu=| 32.0705054907136 \\frac{m}{s}</script></html>"
      ],
      "text/latex": [
       "\\begin{math}\n",
       "\\newcommand{\\Bold}[1]{\\mathbf{#1}}\\verb|Viteza|\\phantom{\\verb!x!}\\verb|la|\\phantom{\\verb!x!}\\verb|urcare|\\phantom{\\verb!x!}\\verb|este|\\phantom{\\verb!x!}\\verb|vu=| 32.0705054907136 \\frac{m}{s}\n",
       "\\end{math}"
      ],
      "text/plain": [
       "'Viteza la urcare este vu=' 32.0705054907136 m/s"
      ]
     },
     "metadata": {},
     "output_type": "display_data"
    }
   ],
   "source": [
    "var(\"m,s\")#am facut asta ca sa pot avea m/s sub forma fractionara\n",
    "v_si=m/s#unitatea de masura a vitezei in sistem international\n",
    "show(\"Viteza la coborare este vc=\",v_coborare(75,50,6371000,9.81),v_si)\n",
    "show(\"Viteza la urcare este vu=\",v_urcare(75,50,6371000,9.81),v_si)"
   ]
  },
  {
   "cell_type": "markdown",
   "metadata": {},
   "source": [
    "----------"
   ]
  },
  {
   "cell_type": "markdown",
   "metadata": {},
   "source": [
    "(c) Să se detemrine înălțimea maximă la care ajunge corpul cu datele de la punctul (b);"
   ]
  },
  {
   "cell_type": "markdown",
   "metadata": {},
   "source": [
    "-------------"
   ]
  },
  {
   "cell_type": "markdown",
   "metadata": {},
   "source": [
    "Știm că atunci când se atinge înălțimea maximă $h$, viteza corpului va fi 0. Deci, doar trebuie să rezolvăm ecuația $v(h)=0$ pentru h (ținând cont de datele de la subpunctul anterior). Deoarece viteza de coborâre și cea de urcare sunt egale în modul, putem lua pe oricare din cele două."
   ]
  },
  {
   "cell_type": "markdown",
   "metadata": {},
   "source": [
    "Vom declara variabila h, vom defini ecuația precizată  și apoi o vom rezolva."
   ]
  },
  {
   "cell_type": "code",
   "execution_count": 7,
   "metadata": {},
   "outputs": [
    {
     "data": {
      "text/html": [
       "<html><script type=\"math/tex; mode=display\">\\newcommand{\\Bold}[1]{\\mathbf{#1}}\\left[h = \\left(\\frac{398187500}{3124913}\\right)\\right]</script></html>"
      ],
      "text/latex": [
       "\\begin{math}\n",
       "\\newcommand{\\Bold}[1]{\\mathbf{#1}}\\left[h = \\left(\\frac{398187500}{3124913}\\right)\\right]\n",
       "\\end{math}"
      ],
      "text/plain": [
       "[h == (398187500/3124913)]"
      ]
     },
     "metadata": {},
     "output_type": "display_data"
    }
   ],
   "source": [
    "var(\"h\")\n",
    "eq1=v_urcare(h,50,6371000,9.81)==0\n",
    "sol_h=solve(eq1,h)\n",
    "show(sol_h)"
   ]
  },
  {
   "cell_type": "markdown",
   "metadata": {},
   "source": [
    "Am obținut o fracție, dar aș prefera să fie o valoare decimală, deci..."
   ]
  },
  {
   "cell_type": "code",
   "execution_count": 8,
   "metadata": {},
   "outputs": [
    {
     "data": {
      "text/html": [
       "<html><script type=\"math/tex; mode=display\">\\newcommand{\\Bold}[1]{\\mathbf{#1}}\\verb|h=| 127.423547471562 \\verb|m|</script></html>"
      ],
      "text/latex": [
       "\\begin{math}\n",
       "\\newcommand{\\Bold}[1]{\\mathbf{#1}}\\verb|h=| 127.423547471562 \\verb|m|\n",
       "\\end{math}"
      ],
      "text/plain": [
       "'h=' 127.423547471562 'm'"
      ]
     },
     "metadata": {},
     "output_type": "display_data"
    }
   ],
   "source": [
    "show(\"h=\",sol_h[0].rhs().n(),\"m\")"
   ]
  },
  {
   "cell_type": "markdown",
   "metadata": {},
   "source": [
    "----"
   ]
  },
  {
   "cell_type": "markdown",
   "metadata": {},
   "source": [
    "(d) Determinați dependența vitezei inițiale în funcție de înălțimea maximă și calculați viteza de evadare ca $\\lim_{h \\to +\\infty} v_0(h)$;"
   ]
  },
  {
   "cell_type": "markdown",
   "metadata": {},
   "source": [
    "--------------"
   ]
  },
  {
   "cell_type": "markdown",
   "metadata": {},
   "source": [
    "Din nou, pentru a atinge înălțimea maximă tot ce trebuie să facem este să rezolvăm ecuația $v=0$, dar de data aceasta pentru $v_0$."
   ]
  },
  {
   "cell_type": "code",
   "execution_count": 9,
   "metadata": {},
   "outputs": [
    {
     "data": {
      "text/html": [
       "<html><script type=\"math/tex; mode=display\">\\newcommand{\\Bold}[1]{\\mathbf{#1}}v_{0} \\verb|(| h_{\\mathit{max}} \\verb|)=| -\\sqrt{2} \\sqrt{\\frac{R g h_{\\mathit{max}}}{R + h_{\\mathit{max}}}}</script></html>"
      ],
      "text/latex": [
       "\\begin{math}\n",
       "\\newcommand{\\Bold}[1]{\\mathbf{#1}}v_{0} \\verb|(| h_{\\mathit{max}} \\verb|)=| -\\sqrt{2} \\sqrt{\\frac{R g h_{\\mathit{max}}}{R + h_{\\mathit{max}}}}\n",
       "\\end{math}"
      ],
      "text/plain": [
       "v_0 '(' h_max ')=' -sqrt(2)*sqrt(R*g*h_max/(R + h_max))"
      ]
     },
     "metadata": {},
     "output_type": "display_data"
    },
    {
     "data": {
      "text/html": [
       "<html><script type=\"math/tex; mode=display\">\\newcommand{\\Bold}[1]{\\mathbf{#1}}v_{0} \\verb|(| h_{\\mathit{max}} \\verb|)=| \\sqrt{2} \\sqrt{\\frac{R g h_{\\mathit{max}}}{R + h_{\\mathit{max}}}}</script></html>"
      ],
      "text/latex": [
       "\\begin{math}\n",
       "\\newcommand{\\Bold}[1]{\\mathbf{#1}}v_{0} \\verb|(| h_{\\mathit{max}} \\verb|)=| \\sqrt{2} \\sqrt{\\frac{R g h_{\\mathit{max}}}{R + h_{\\mathit{max}}}}\n",
       "\\end{math}"
      ],
      "text/plain": [
       "v_0 '(' h_max ')=' sqrt(2)*sqrt(R*g*h_max/(R + h_max))"
      ]
     },
     "metadata": {},
     "output_type": "display_data"
    }
   ],
   "source": [
    "var(\"h_max\")\n",
    "eq2=v_urcare(h_max,v_0,R,g)==0\n",
    "sol2=solve(eq2,v_0)\n",
    "show(v_0,\"(\",h_max,\")=\",sol2[0].rhs())\n",
    "show(v_0,\"(\",h_max,\")=\",sol2[1].rhs())"
   ]
  },
  {
   "cell_type": "markdown",
   "metadata": {},
   "source": [
    "Totuși, de această dată nu ar avea sens să luăm viteza negativă, deoarece viteza inițială ar trebui să fie strict pozitivă pentru a putea vorbi de evadare (daca ar fi negativ doar s-ar apropia de centru, deci nu ar putea ieși din câmpul gravitațional). Deci..."
   ]
  },
  {
   "cell_type": "code",
   "execution_count": 10,
   "metadata": {},
   "outputs": [
    {
     "data": {
      "text/html": [
       "<html><script type=\"math/tex; mode=display\">\\newcommand{\\Bold}[1]{\\mathbf{#1}}h_{\\mathit{max}} \\ {\\mapsto}\\ \\sqrt{2} \\sqrt{\\frac{R g h_{\\mathit{max}}}{R + h_{\\mathit{max}}}}</script></html>"
      ],
      "text/latex": [
       "\\begin{math}\n",
       "\\newcommand{\\Bold}[1]{\\mathbf{#1}}h_{\\mathit{max}} \\ {\\mapsto}\\ \\sqrt{2} \\sqrt{\\frac{R g h_{\\mathit{max}}}{R + h_{\\mathit{max}}}}\n",
       "\\end{math}"
      ],
      "text/plain": [
       "h_max |--> sqrt(2)*sqrt(R*g*h_max/(R + h_max))"
      ]
     },
     "metadata": {},
     "output_type": "display_data"
    }
   ],
   "source": [
    "fv_0(h_max)=sol2[1].rhs()\n",
    "show(fv_0)"
   ]
  },
  {
   "cell_type": "markdown",
   "metadata": {},
   "source": [
    "Acum doar vom da în limită."
   ]
  },
  {
   "cell_type": "code",
   "execution_count": 11,
   "metadata": {},
   "outputs": [
    {
     "data": {
      "text/html": [
       "<html><script type=\"math/tex; mode=display\">\\newcommand{\\Bold}[1]{\\mathbf{#1}}\\verb|v_evadare=| \\sqrt{2} \\sqrt{R g}</script></html>"
      ],
      "text/latex": [
       "\\begin{math}\n",
       "\\newcommand{\\Bold}[1]{\\mathbf{#1}}\\verb|v_evadare=| \\sqrt{2} \\sqrt{R g}\n",
       "\\end{math}"
      ],
      "text/plain": [
       "'v_evadare=' sqrt(2)*sqrt(R*g)"
      ]
     },
     "metadata": {},
     "output_type": "display_data"
    }
   ],
   "source": [
    "rez1=limit(fv_0(h_max),h_max=+oo)\n",
    "show(\"v_evadare=\",rez1)"
   ]
  },
  {
   "cell_type": "markdown",
   "metadata": {},
   "source": [
    "-------------"
   ]
  },
  {
   "cell_type": "markdown",
   "metadata": {},
   "source": [
    "(e) Calculați vitezele de evadare corespunzătoare poziției pe glob știind că:"
   ]
  },
  {
   "cell_type": "markdown",
   "metadata": {},
   "source": [
    "la ecuator, raza ecuatorială este $R_{ec}=6378.160km$ și accelerația gravitațională este $g_{ec}=9.78\\frac{m}{s^2}$"
   ]
  },
  {
   "cell_type": "markdown",
   "metadata": {},
   "source": [
    "la poli, raza polară este $R_{pol}=6357.778km$ și accelerația gravitațională este $g_{pol}=9.832 \\frac{m}{s^2}$"
   ]
  },
  {
   "cell_type": "markdown",
   "metadata": {},
   "source": [
    "raza medie este $R_m=6371.110km$ și accelerația gravitațională medie este $ g_m=9.81 \\frac{m}{s^2}$."
   ]
  },
  {
   "cell_type": "markdown",
   "metadata": {},
   "source": [
    "------------"
   ]
  },
  {
   "cell_type": "markdown",
   "metadata": {},
   "source": [
    "Avem deja formula de calcul obținută din subpunctul anterior, deci tot ce este necesar este să înlocuim variabilele cu valorile date în problemă."
   ]
  },
  {
   "cell_type": "markdown",
   "metadata": {},
   "source": [
    "Pentru ecuator:"
   ]
  },
  {
   "cell_type": "code",
   "execution_count": 12,
   "metadata": {},
   "outputs": [
    {
     "data": {
      "text/html": [
       "<html><script type=\"math/tex; mode=display\">\\newcommand{\\Bold}[1]{\\mathbf{#1}}\\verb|v-evadare=| 11169.4587872466 \\frac{m}{s}</script></html>"
      ],
      "text/latex": [
       "\\begin{math}\n",
       "\\newcommand{\\Bold}[1]{\\mathbf{#1}}\\verb|v-evadare=| 11169.4587872466 \\frac{m}{s}\n",
       "\\end{math}"
      ],
      "text/plain": [
       "'v-evadare=' 11169.4587872466 m/s"
      ]
     },
     "metadata": {},
     "output_type": "display_data"
    }
   ],
   "source": [
    "show(\"v-evadare=\",rez1.subs(R==6378160,g==9.78).n(),v_si)"
   ]
  },
  {
   "cell_type": "markdown",
   "metadata": {},
   "source": [
    "Pentru poli:"
   ]
  },
  {
   "cell_type": "code",
   "execution_count": 13,
   "metadata": {},
   "outputs": [
    {
     "data": {
      "text/html": [
       "<html><script type=\"math/tex; mode=display\">\\newcommand{\\Bold}[1]{\\mathbf{#1}}\\verb|v-evadare=| 11181.2050599209 \\frac{m}{s}</script></html>"
      ],
      "text/latex": [
       "\\begin{math}\n",
       "\\newcommand{\\Bold}[1]{\\mathbf{#1}}\\verb|v-evadare=| 11181.2050599209 \\frac{m}{s}\n",
       "\\end{math}"
      ],
      "text/plain": [
       "'v-evadare=' 11181.2050599209 m/s"
      ]
     },
     "metadata": {},
     "output_type": "display_data"
    }
   ],
   "source": [
    "show(\"v-evadare=\",rez1.subs(R==6357778,g==9.832).n(),v_si)"
   ]
  },
  {
   "cell_type": "markdown",
   "metadata": {},
   "source": [
    "Pentru poziția medie:"
   ]
  },
  {
   "cell_type": "code",
   "execution_count": 14,
   "metadata": {},
   "outputs": [
    {
     "data": {
      "text/html": [
       "<html><script type=\"math/tex; mode=display\">\\newcommand{\\Bold}[1]{\\mathbf{#1}}\\verb|v-evadare=| 11180.3925780806 \\frac{m}{s}</script></html>"
      ],
      "text/latex": [
       "\\begin{math}\n",
       "\\newcommand{\\Bold}[1]{\\mathbf{#1}}\\verb|v-evadare=| 11180.3925780806 \\frac{m}{s}\n",
       "\\end{math}"
      ],
      "text/plain": [
       "'v-evadare=' 11180.3925780806 m/s"
      ]
     },
     "metadata": {},
     "output_type": "display_data"
    }
   ],
   "source": [
    "show(\"v-evadare=\",rez1.subs(R==6371110,g==9.81).n(),v_si)"
   ]
  }
 ],
 "metadata": {
  "kernelspec": {
   "display_name": "SageMath 9.2",
   "language": "sage",
   "name": "sagemath"
  },
  "language_info": {
   "codemirror_mode": {
    "name": "ipython",
    "version": 3
   },
   "file_extension": ".py",
   "mimetype": "text/x-python",
   "name": "python",
   "nbconvert_exporter": "python",
   "pygments_lexer": "ipython3",
   "version": "3.7.7"
  }
 },
 "nbformat": 4,
 "nbformat_minor": 4
}
